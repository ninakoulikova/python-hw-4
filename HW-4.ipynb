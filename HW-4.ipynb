{
 "cells": [
  {
   "cell_type": "markdown",
   "metadata": {},
   "source": [
    "# 2019-06-04-Домашняя работа"
   ]
  },
  {
   "cell_type": "markdown",
   "metadata": {},
   "source": [
    "## Задание 1"
   ]
  },
  {
   "cell_type": "code",
   "execution_count": 1,
   "metadata": {
    "collapsed": true
   },
   "outputs": [],
   "source": [
    "import datetime"
   ]
  },
  {
   "cell_type": "code",
   "execution_count": 6,
   "metadata": {
    "collapsed": true
   },
   "outputs": [],
   "source": [
    "from datetime import datetime, date, timedelta"
   ]
  },
  {
   "cell_type": "code",
   "execution_count": 15,
   "metadata": {
    "collapsed": true
   },
   "outputs": [],
   "source": [
    "start_date = date(2019, 5, 15) \n",
    "end_date = date(2019, 5, 20)"
   ]
  },
  {
   "cell_type": "code",
   "execution_count": 16,
   "metadata": {
    "collapsed": true
   },
   "outputs": [],
   "source": [
    "def date_range(start_date, end_date):\n",
    "    list_of_days = []\n",
    "    delta = end_date - start_date\n",
    "    for i in range(delta.days + 1):\n",
    "        day=start_date + timedelta(days=i)\n",
    "        list_of_days.append(day.strftime('%Y-%m-%d'))\n",
    "    return list_of_days"
   ]
  },
  {
   "cell_type": "code",
   "execution_count": 18,
   "metadata": {
    "collapsed": false
   },
   "outputs": [
    {
     "data": {
      "text/plain": [
       "['2019-05-15',\n",
       " '2019-05-16',\n",
       " '2019-05-17',\n",
       " '2019-05-18',\n",
       " '2019-05-19',\n",
       " '2019-05-20']"
      ]
     },
     "execution_count": 18,
     "metadata": {},
     "output_type": "execute_result"
    }
   ],
   "source": [
    "date_range(start_date, end_date)"
   ]
  },
  {
   "cell_type": "markdown",
   "metadata": {},
   "source": [
    "## Задание 2"
   ]
  },
  {
   "cell_type": "code",
   "execution_count": 31,
   "metadata": {
    "collapsed": false
   },
   "outputs": [
    {
     "data": {
      "text/plain": [
       "True"
      ]
     },
     "execution_count": 31,
     "metadata": {},
     "output_type": "execute_result"
    }
   ],
   "source": [
    "isinstance(start_date, date)"
   ]
  },
  {
   "cell_type": "code",
   "execution_count": 32,
   "metadata": {
    "collapsed": false
   },
   "outputs": [
    {
     "data": {
      "text/plain": [
       "False"
      ]
     },
     "execution_count": 32,
     "metadata": {},
     "output_type": "execute_result"
    }
   ],
   "source": [
    "isinstance('foo', date)"
   ]
  },
  {
   "cell_type": "code",
   "execution_count": 33,
   "metadata": {
    "collapsed": false
   },
   "outputs": [
    {
     "data": {
      "text/plain": [
       "False"
      ]
     },
     "execution_count": 33,
     "metadata": {},
     "output_type": "execute_result"
    }
   ],
   "source": [
    "isinstance(245, date)"
   ]
  },
  {
   "cell_type": "code",
   "execution_count": 36,
   "metadata": {
    "collapsed": false
   },
   "outputs": [
    {
     "data": {
      "text/plain": [
       "True"
      ]
     },
     "execution_count": 36,
     "metadata": {},
     "output_type": "execute_result"
    }
   ],
   "source": [
    "isinstance(start_date, date) & isinstance(end_date, date)"
   ]
  },
  {
   "cell_type": "code",
   "execution_count": 41,
   "metadata": {
    "collapsed": true
   },
   "outputs": [],
   "source": [
    "def date_range_check(start_date, end_date):\n",
    "    list_of_days = []\n",
    "    if isinstance(start_date, date) & isinstance(end_date, date):\n",
    "        delta = end_date - start_date\n",
    "        if delta.days > 0:\n",
    "            for i in range(delta.days + 1):\n",
    "                day=start_date + timedelta(days=i)\n",
    "                list_of_days.append(day.strftime('%Y-%m-%d'))\n",
    "        else:\n",
    "            print('start_date > end_date')\n",
    "    else:\n",
    "        print('input dates are incorrect')\n",
    "        pass\n",
    "    return list_of_days"
   ]
  },
  {
   "cell_type": "code",
   "execution_count": 42,
   "metadata": {
    "collapsed": true
   },
   "outputs": [],
   "source": [
    "start_date = date(2019, 5, 15) \n",
    "end_date = date(2019, 5, 20)"
   ]
  },
  {
   "cell_type": "code",
   "execution_count": 43,
   "metadata": {
    "collapsed": false
   },
   "outputs": [
    {
     "data": {
      "text/plain": [
       "['2019-05-15',\n",
       " '2019-05-16',\n",
       " '2019-05-17',\n",
       " '2019-05-18',\n",
       " '2019-05-19',\n",
       " '2019-05-20']"
      ]
     },
     "execution_count": 43,
     "metadata": {},
     "output_type": "execute_result"
    }
   ],
   "source": [
    "date_range_check(start_date, end_date)"
   ]
  },
  {
   "cell_type": "code",
   "execution_count": 44,
   "metadata": {
    "collapsed": true
   },
   "outputs": [],
   "source": [
    "start_date = date(2019, 6, 15) \n",
    "end_date = date(2019, 5, 20)"
   ]
  },
  {
   "cell_type": "code",
   "execution_count": 45,
   "metadata": {
    "collapsed": false
   },
   "outputs": [
    {
     "name": "stdout",
     "output_type": "stream",
     "text": [
      "start_date > end_date\n"
     ]
    },
    {
     "data": {
      "text/plain": [
       "[]"
      ]
     },
     "execution_count": 45,
     "metadata": {},
     "output_type": "execute_result"
    }
   ],
   "source": [
    "date_range_check(start_date, end_date)"
   ]
  },
  {
   "cell_type": "code",
   "execution_count": 47,
   "metadata": {
    "collapsed": true
   },
   "outputs": [],
   "source": [
    "start_date = 'спартак-чемпион' \n",
    "end_date = date(2019, 5, 20)"
   ]
  },
  {
   "cell_type": "code",
   "execution_count": 48,
   "metadata": {
    "collapsed": false
   },
   "outputs": [
    {
     "name": "stdout",
     "output_type": "stream",
     "text": [
      "input dates are incorrect\n"
     ]
    },
    {
     "data": {
      "text/plain": [
       "[]"
      ]
     },
     "execution_count": 48,
     "metadata": {},
     "output_type": "execute_result"
    }
   ],
   "source": [
    "date_range_check(start_date, end_date)"
   ]
  },
  {
   "cell_type": "markdown",
   "metadata": {},
   "source": [
    "## Задание 3"
   ]
  },
  {
   "cell_type": "code",
   "execution_count": 49,
   "metadata": {
    "collapsed": true
   },
   "outputs": [],
   "source": [
    "stream = ['2018-04-02', '2018-02-29', '2018-19-02']"
   ]
  },
  {
   "cell_type": "code",
   "execution_count": 54,
   "metadata": {
    "collapsed": true
   },
   "outputs": [],
   "source": [
    "def date_check(x):\n",
    "    try:\n",
    "        datetime.strptime(x, '%Y-%m-%d')\n",
    "        return True\n",
    "    except:\n",
    "        return False       "
   ]
  },
  {
   "cell_type": "code",
   "execution_count": 56,
   "metadata": {
    "collapsed": false
   },
   "outputs": [],
   "source": [
    "def date_check_stream(stream):\n",
    "    return [date_check(x) for x in stream]"
   ]
  },
  {
   "cell_type": "code",
   "execution_count": 57,
   "metadata": {
    "collapsed": false
   },
   "outputs": [
    {
     "data": {
      "text/plain": [
       "[True, False, False]"
      ]
     },
     "execution_count": 57,
     "metadata": {},
     "output_type": "execute_result"
    }
   ],
   "source": [
    "date_check_stream(stream)"
   ]
  },
  {
   "cell_type": "markdown",
   "metadata": {},
   "source": [
    "## Задание 4"
   ]
  },
  {
   "cell_type": "code",
   "execution_count": 72,
   "metadata": {
    "collapsed": false
   },
   "outputs": [
    {
     "data": {
      "text/plain": [
       "6"
      ]
     },
     "execution_count": 72,
     "metadata": {},
     "output_type": "execute_result"
    }
   ],
   "source": [
    "date.today().month"
   ]
  },
  {
   "cell_type": "code",
   "execution_count": 76,
   "metadata": {
    "collapsed": true
   },
   "outputs": [],
   "source": [
    "def list_days_cur_month(today):\n",
    "    list_of_days = []\n",
    "    start_date = today.replace(day=1)\n",
    "    delta = today - start_date\n",
    "    if delta.days > 0:\n",
    "        for i in range(delta.days):\n",
    "            day = start_date + timedelta(days=i)\n",
    "            list_of_days.append(day.strftime('%Y-%m-%d'))\n",
    "    else:\n",
    "        prev_month = start_date.month-1\n",
    "        start_date = start_date.replace(month =  prev_month)\n",
    "        delta = today - start_date\n",
    "        for i in range(delta.days):\n",
    "            day = start_date + timedelta(days=i)\n",
    "            list_of_days.append(day.strftime('%Y-%m-%d'))\n",
    "    return list_of_days"
   ]
  },
  {
   "cell_type": "code",
   "execution_count": 77,
   "metadata": {
    "collapsed": true
   },
   "outputs": [],
   "source": [
    "today=date.today()"
   ]
  },
  {
   "cell_type": "code",
   "execution_count": 78,
   "metadata": {
    "collapsed": false
   },
   "outputs": [
    {
     "data": {
      "text/plain": [
       "['2019-06-01', '2019-06-02', '2019-06-03']"
      ]
     },
     "execution_count": 78,
     "metadata": {},
     "output_type": "execute_result"
    }
   ],
   "source": [
    "list_days_cur_month(today)"
   ]
  },
  {
   "cell_type": "code",
   "execution_count": 79,
   "metadata": {
    "collapsed": true
   },
   "outputs": [],
   "source": [
    "today = date(2019, 6, 1)"
   ]
  },
  {
   "cell_type": "code",
   "execution_count": 80,
   "metadata": {
    "collapsed": false
   },
   "outputs": [
    {
     "data": {
      "text/plain": [
       "['2019-05-01',\n",
       " '2019-05-02',\n",
       " '2019-05-03',\n",
       " '2019-05-04',\n",
       " '2019-05-05',\n",
       " '2019-05-06',\n",
       " '2019-05-07',\n",
       " '2019-05-08',\n",
       " '2019-05-09',\n",
       " '2019-05-10',\n",
       " '2019-05-11',\n",
       " '2019-05-12',\n",
       " '2019-05-13',\n",
       " '2019-05-14',\n",
       " '2019-05-15',\n",
       " '2019-05-16',\n",
       " '2019-05-17',\n",
       " '2019-05-18',\n",
       " '2019-05-19',\n",
       " '2019-05-20',\n",
       " '2019-05-21',\n",
       " '2019-05-22',\n",
       " '2019-05-23',\n",
       " '2019-05-24',\n",
       " '2019-05-25',\n",
       " '2019-05-26',\n",
       " '2019-05-27',\n",
       " '2019-05-28',\n",
       " '2019-05-29',\n",
       " '2019-05-30',\n",
       " '2019-05-31']"
      ]
     },
     "execution_count": 80,
     "metadata": {},
     "output_type": "execute_result"
    }
   ],
   "source": [
    "list_days_cur_month(today)"
   ]
  },
  {
   "cell_type": "code",
   "execution_count": null,
   "metadata": {
    "collapsed": true
   },
   "outputs": [],
   "source": []
  }
 ],
 "metadata": {
  "anaconda-cloud": {},
  "kernelspec": {
   "display_name": "Python [default]",
   "language": "python",
   "name": "python3"
  },
  "language_info": {
   "codemirror_mode": {
    "name": "ipython",
    "version": 3
   },
   "file_extension": ".py",
   "mimetype": "text/x-python",
   "name": "python",
   "nbconvert_exporter": "python",
   "pygments_lexer": "ipython3",
   "version": "3.5.2"
  }
 },
 "nbformat": 4,
 "nbformat_minor": 1
}
